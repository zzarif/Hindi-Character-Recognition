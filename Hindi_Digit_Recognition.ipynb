{
  "nbformat": 4,
  "nbformat_minor": 0,
  "metadata": {
    "colab": {
      "provenance": [],
      "collapsed_sections": [
        "z1EVD1qThA0c"
      ]
    },
    "kernelspec": {
      "name": "python3",
      "display_name": "Python 3"
    },
    "language_info": {
      "name": "python"
    },
    "accelerator": "GPU",
    "widgets": {
      "application/vnd.jupyter.widget-state+json": {
        "e4368867f25543589e252e178180887b": {
          "model_module": "@jupyter-widgets/controls",
          "model_name": "ButtonModel",
          "model_module_version": "1.5.0",
          "state": {
            "_dom_classes": [],
            "_model_module": "@jupyter-widgets/controls",
            "_model_module_version": "1.5.0",
            "_model_name": "ButtonModel",
            "_view_count": null,
            "_view_module": "@jupyter-widgets/controls",
            "_view_module_version": "1.5.0",
            "_view_name": "ButtonView",
            "button_style": "",
            "description": "Prediction: 6",
            "disabled": false,
            "icon": "",
            "layout": "IPY_MODEL_28474d3e92734aeeaf8836877a9d1bec",
            "style": "IPY_MODEL_3f299a58c7804c5bad865e15f5307abc",
            "tooltip": ""
          }
        },
        "28474d3e92734aeeaf8836877a9d1bec": {
          "model_module": "@jupyter-widgets/base",
          "model_name": "LayoutModel",
          "model_module_version": "1.2.0",
          "state": {
            "_model_module": "@jupyter-widgets/base",
            "_model_module_version": "1.2.0",
            "_model_name": "LayoutModel",
            "_view_count": null,
            "_view_module": "@jupyter-widgets/base",
            "_view_module_version": "1.2.0",
            "_view_name": "LayoutView",
            "align_content": null,
            "align_items": null,
            "align_self": null,
            "border": null,
            "bottom": null,
            "display": null,
            "flex": null,
            "flex_flow": null,
            "grid_area": null,
            "grid_auto_columns": null,
            "grid_auto_flow": null,
            "grid_auto_rows": null,
            "grid_column": null,
            "grid_gap": null,
            "grid_row": null,
            "grid_template_areas": null,
            "grid_template_columns": null,
            "grid_template_rows": null,
            "height": null,
            "justify_content": null,
            "justify_items": null,
            "left": null,
            "margin": null,
            "max_height": null,
            "max_width": null,
            "min_height": null,
            "min_width": null,
            "object_fit": null,
            "object_position": null,
            "order": null,
            "overflow": null,
            "overflow_x": null,
            "overflow_y": null,
            "padding": null,
            "right": null,
            "top": null,
            "visibility": null,
            "width": null
          }
        },
        "3f299a58c7804c5bad865e15f5307abc": {
          "model_module": "@jupyter-widgets/controls",
          "model_name": "ButtonStyleModel",
          "model_module_version": "1.5.0",
          "state": {
            "_model_module": "@jupyter-widgets/controls",
            "_model_module_version": "1.5.0",
            "_model_name": "ButtonStyleModel",
            "_view_count": null,
            "_view_module": "@jupyter-widgets/base",
            "_view_module_version": "1.2.0",
            "_view_name": "StyleView",
            "button_color": "Black",
            "font_weight": "bold"
          }
        },
        "278eefd5b2e04392ae712b794701704b": {
          "model_module": "@jupyter-widgets/output",
          "model_name": "OutputModel",
          "model_module_version": "1.0.0",
          "state": {
            "_dom_classes": [],
            "_model_module": "@jupyter-widgets/output",
            "_model_module_version": "1.0.0",
            "_model_name": "OutputModel",
            "_view_count": null,
            "_view_module": "@jupyter-widgets/output",
            "_view_module_version": "1.0.0",
            "_view_name": "OutputView",
            "layout": "IPY_MODEL_51bceeab89874736985ee845b2169751",
            "msg_id": "",
            "outputs": []
          }
        },
        "51bceeab89874736985ee845b2169751": {
          "model_module": "@jupyter-widgets/base",
          "model_name": "LayoutModel",
          "model_module_version": "1.2.0",
          "state": {
            "_model_module": "@jupyter-widgets/base",
            "_model_module_version": "1.2.0",
            "_model_name": "LayoutModel",
            "_view_count": null,
            "_view_module": "@jupyter-widgets/base",
            "_view_module_version": "1.2.0",
            "_view_name": "LayoutView",
            "align_content": null,
            "align_items": null,
            "align_self": null,
            "border": null,
            "bottom": null,
            "display": null,
            "flex": null,
            "flex_flow": null,
            "grid_area": null,
            "grid_auto_columns": null,
            "grid_auto_flow": null,
            "grid_auto_rows": null,
            "grid_column": null,
            "grid_gap": null,
            "grid_row": null,
            "grid_template_areas": null,
            "grid_template_columns": null,
            "grid_template_rows": null,
            "height": null,
            "justify_content": null,
            "justify_items": null,
            "left": null,
            "margin": null,
            "max_height": null,
            "max_width": null,
            "min_height": null,
            "min_width": null,
            "object_fit": null,
            "object_position": null,
            "order": null,
            "overflow": null,
            "overflow_x": null,
            "overflow_y": null,
            "padding": null,
            "right": null,
            "top": null,
            "visibility": null,
            "width": null
          }
        }
      }
    }
  },
  "cells": [
    {
      "cell_type": "code",
      "source": [],
      "metadata": {
        "id": "tDJvrpMAw-c-"
      },
      "execution_count": null,
      "outputs": []
    },
    {
      "cell_type": "markdown",
      "source": [
        "#Pre-processing\n",
        "\n",
        "Dataset Source: [UCI Repository](https://archive.ics.uci.edu/ml/machine-learning-databases/00389/)"
      ],
      "metadata": {
        "id": "z1EVD1qThA0c"
      }
    },
    {
      "cell_type": "markdown",
      "source": [
        "Some Functions"
      ],
      "metadata": {
        "id": "W5RIS2Mwze7b"
      }
    },
    {
      "cell_type": "code",
      "source": [
        "#Source: Lab 4 File of Teacher\n",
        "def print_image(img):\n",
        "  import matplotlib.pyplot as plt\n",
        "  plt.imshow(img, cmap='gray')\n",
        "  plt.show()\n"
      ],
      "metadata": {
        "id": "vxq_xRzcx5am"
      },
      "execution_count": null,
      "outputs": []
    },
    {
      "cell_type": "code",
      "source": [
        "def convert_png_to_numpy_array(filepath):\n",
        "  import numpy as np\n",
        "  from PIL import Image\n",
        "  return  np.array(Image.open(filepath))"
      ],
      "metadata": {
        "id": "jxkKans0zgrS"
      },
      "execution_count": null,
      "outputs": []
    },
    {
      "cell_type": "code",
      "source": [
        "def resolve_file_path(usage,folder_name,file_name):\n",
        "  #usage should be 'Test' or 'Train'\n",
        "  import os\n",
        "  return os.path.join('/content','Hindi Digit Dataset',usage.capitalize(),folder_name,file_name);"
      ],
      "metadata": {
        "id": "uH2NG0G5tik6"
      },
      "execution_count": null,
      "outputs": []
    },
    {
      "cell_type": "code",
      "source": [
        "def extract_label_from_folder_name(folder_name):\n",
        "  return folder_name[-1]"
      ],
      "metadata": {
        "id": "m4sqFP01ue1p"
      },
      "execution_count": null,
      "outputs": []
    },
    {
      "cell_type": "markdown",
      "source": [
        "Download from Google Drive & Load into Numpy Arrays"
      ],
      "metadata": {
        "id": "9YP0xAwitFHo"
      }
    },
    {
      "cell_type": "code",
      "source": [
        "!gdown https://drive.google.com/uc?id=1Ow6wyIxOcL62dpm_sokFaoMDFJs9pE2A\n",
        "!unzip -q Hindi\\ Digit\\ Dataset.zip"
      ],
      "metadata": {
        "colab": {
          "base_uri": "https://localhost:8080/"
        },
        "id": "CrnIZeq7ioYn",
        "outputId": "c99f7878-d8e0-4ef3-9fda-30d7f4f18cfb"
      },
      "execution_count": null,
      "outputs": [
        {
          "output_type": "stream",
          "name": "stdout",
          "text": [
            "Downloading...\n",
            "From: https://drive.google.com/uc?id=1Ow6wyIxOcL62dpm_sokFaoMDFJs9pE2A\n",
            "To: /content/Hindi Digit Dataset.zip\n",
            "\r  0% 0.00/15.2M [00:00<?, ?B/s]\r100% 15.2M/15.2M [00:00<00:00, 259MB/s]\n",
            "replace Hindi Digit Dataset/Test/digit_0/103277.png? [y]es, [n]o, [A]ll, [N]one, [r]ename: N\n"
          ]
        }
      ]
    },
    {
      "cell_type": "code",
      "source": [
        "def prepare_dataset(usage):\n",
        "  pictures=list()\n",
        "  labels=list()\n",
        "  import os\n",
        "  folder_names= os.listdir(os.path.join('/content','Hindi Digit Dataset',usage))\n",
        "  for folder_name in folder_names:\n",
        "    file_names=os.listdir(os.path.join('/content','Hindi Digit Dataset',usage,folder_name))\n",
        "    for file_name in file_names:\n",
        "        filepath=resolve_file_path(usage,folder_name,file_name)\n",
        "        pictures.append(convert_png_to_numpy_array(filepath))\n",
        "        labels.append(extract_label_from_folder_name(folder_name))  \n",
        "  \n",
        "  return pictures,labels"
      ],
      "metadata": {
        "id": "3ucsPX4SxPSp"
      },
      "execution_count": null,
      "outputs": []
    },
    {
      "cell_type": "code",
      "source": [
        "x_train,y_train=prepare_dataset('Train')\n",
        "x_test,y_test=prepare_dataset('Test')"
      ],
      "metadata": {
        "id": "7Y7Quu3a0ddh"
      },
      "execution_count": null,
      "outputs": []
    },
    {
      "cell_type": "code",
      "source": [
        "#Example\n",
        "print_image(x_train[197])\n",
        "print('Label: '+y_train[197])"
      ],
      "metadata": {
        "id": "1WBAoQW42_Ee",
        "colab": {
          "base_uri": "https://localhost:8080/",
          "height": 283
        },
        "outputId": "14288f64-2544-4699-8e3c-8f06e718140e"
      },
      "execution_count": null,
      "outputs": [
        {
          "output_type": "display_data",
          "data": {
            "text/plain": [
              "<Figure size 432x288 with 1 Axes>"
            ],
            "image/png": "[encoded data removed]"
          },
          "metadata": {
            "needs_background": "light"
          }
        },
        {
          "output_type": "stream",
          "name": "stdout",
          "text": [
            "Label: 8\n"
          ]
        }
      ]
    },
    {
      "cell_type": "code",
      "source": [
        "print('Number of samples')\n",
        "print(f'Training: {len(x_train)}')\n",
        "print(f'Test {len(x_test)}')"
      ],
      "metadata": {
        "id": "auEkFCdJ3LlA",
        "colab": {
          "base_uri": "https://localhost:8080/"
        },
        "outputId": "f3516a67-8d62-4fbc-8921-ba4faf2be236"
      },
      "execution_count": null,
      "outputs": [
        {
          "output_type": "stream",
          "name": "stdout",
          "text": [
            "Number of samples\n",
            "Training: 17000\n",
            "Test 3000\n"
          ]
        }
      ]
    },
    {
      "cell_type": "code",
      "source": [
        "#Each sample is a 32 x 32 grayscale picture\n",
        "x_train[0].shape"
      ],
      "metadata": {
        "colab": {
          "base_uri": "https://localhost:8080/"
        },
        "id": "wdhD7hR_4BQC",
        "outputId": "e7cef6e9-d6a8-4968-a90d-7a477b1451e1"
      },
      "execution_count": null,
      "outputs": [
        {
          "output_type": "execute_result",
          "data": {
            "text/plain": [
              "(32, 32)"
            ]
          },
          "metadata": {},
          "execution_count": 55
        }
      ]
    },
    {
      "cell_type": "markdown",
      "source": [
        "#Convolutional Neural Network"
      ],
      "metadata": {
        "id": "QA1Jtjeh1oas"
      }
    },
    {
      "cell_type": "code",
      "source": [
        "import matplotlib.pyplot as plt\n",
        "import gzip\n",
        "import pickle\n",
        "import numpy as np"
      ],
      "metadata": {
        "id": "qvqkYUbvc8i-"
      },
      "execution_count": null,
      "outputs": []
    },
    {
      "cell_type": "code",
      "source": [
        "import tensorflow as tf\n",
        "from tensorflow.keras import datasets, layers, models, losses, optimizers\n",
        "from tensorflow.keras.utils import to_categorical"
      ],
      "metadata": {
        "id": "FlpljMR9ag__"
      },
      "execution_count": null,
      "outputs": []
    },
    {
      "cell_type": "code",
      "source": [
        "model = models.Sequential()\n",
        "model.add(layers.Conv2D(32, (3, 3), activation='relu', input_shape=(32, 32, 1)))\n",
        "model.add(layers.MaxPooling2D((2, 2)))\n",
        "model.add(layers.Conv2D(64, (3, 3), activation='relu'))\n",
        "model.add(layers.MaxPooling2D((2, 2)))\n",
        "model.add(layers.Conv2D(128, (3, 3), activation='relu'))\n",
        "model.summary()"
      ],
      "metadata": {
        "colab": {
          "base_uri": "https://localhost:8080/"
        },
        "id": "L041JQKJahr7",
        "outputId": "0364752e-4cb3-4306-941e-f620b590d490"
      },
      "execution_count": null,
      "outputs": [
        {
          "output_type": "stream",
          "name": "stdout",
          "text": [
            "Model: \"sequential\"\n",
            "_________________________________________________________________\n",
            " Layer (type)                Output Shape              Param #   \n",
            "=================================================================\n",
            " conv2d (Conv2D)             (None, 30, 30, 32)        320       \n",
            "                                                                 \n",
            " max_pooling2d (MaxPooling2D  (None, 15, 15, 32)       0         \n",
            " )                                                               \n",
            "                                                                 \n",
            " conv2d_1 (Conv2D)           (None, 13, 13, 64)        18496     \n",
            "                                                                 \n",
            " max_pooling2d_1 (MaxPooling  (None, 6, 6, 64)         0         \n",
            " 2D)                                                             \n",
            "                                                                 \n",
            " conv2d_2 (Conv2D)           (None, 4, 4, 128)         73856     \n",
            "                                                                 \n",
            "=================================================================\n",
            "Total params: 92,672\n",
            "Trainable params: 92,672\n",
            "Non-trainable params: 0\n",
            "_________________________________________________________________\n"
          ]
        }
      ]
    },
    {
      "cell_type": "code",
      "source": [
        "model.add(layers.Flatten())\n",
        "model.add(layers.Dense(128, activation='relu'))\n",
        "model.add(layers.Dense(10, activation = 'softmax'))"
      ],
      "metadata": {
        "id": "yK3fhLRFakLS"
      },
      "execution_count": null,
      "outputs": []
    },
    {
      "cell_type": "code",
      "source": [
        "model.summary()"
      ],
      "metadata": {
        "id": "9ZMf6dTyam5t",
        "colab": {
          "base_uri": "https://localhost:8080/"
        },
        "outputId": "ffb97b48-f7d5-4208-b9fd-b1e9b177ad64"
      },
      "execution_count": null,
      "outputs": [
        {
          "output_type": "stream",
          "name": "stdout",
          "text": [
            "Model: \"sequential\"\n",
            "_________________________________________________________________\n",
            " Layer (type)                Output Shape              Param #   \n",
            "=================================================================\n",
            " conv2d (Conv2D)             (None, 30, 30, 32)        320       \n",
            "                                                                 \n",
            " max_pooling2d (MaxPooling2D  (None, 15, 15, 32)       0         \n",
            " )                                                               \n",
            "                                                                 \n",
            " conv2d_1 (Conv2D)           (None, 13, 13, 64)        18496     \n",
            "                                                                 \n",
            " max_pooling2d_1 (MaxPooling  (None, 6, 6, 64)         0         \n",
            " 2D)                                                             \n",
            "                                                                 \n",
            " conv2d_2 (Conv2D)           (None, 4, 4, 128)         73856     \n",
            "                                                                 \n",
            " flatten (Flatten)           (None, 2048)              0         \n",
            "                                                                 \n",
            " dense (Dense)               (None, 128)               262272    \n",
            "                                                                 \n",
            " dense_1 (Dense)             (None, 10)                1290      \n",
            "                                                                 \n",
            "=================================================================\n",
            "Total params: 356,234\n",
            "Trainable params: 356,234\n",
            "Non-trainable params: 0\n",
            "_________________________________________________________________\n"
          ]
        }
      ]
    },
    {
      "cell_type": "code",
      "source": [
        "batch_size = 64\n",
        "epochs = 30\n",
        "num_classes = 10"
      ],
      "metadata": {
        "id": "e2vXGcr9aooN"
      },
      "execution_count": null,
      "outputs": []
    },
    {
      "cell_type": "code",
      "source": [
        "model.compile(loss=losses.categorical_crossentropy, optimizer=optimizers.Adam(),metrics=['accuracy'])"
      ],
      "metadata": {
        "id": "vVf4BXDraut_"
      },
      "execution_count": null,
      "outputs": []
    },
    {
      "cell_type": "code",
      "source": [
        "#X_val=X_val.reshape(-1, 32,32,1)\n",
        "#print(X_val.shape)\n",
        "#y_val = to_categorical(y_val)\n",
        "#print(y_val.shape)\n",
        "\n",
        "x_train=np.asarray(x_train)\n",
        "y_train=np.asarray(y_train)\n",
        "x_test=np.asarray(x_test)\n",
        "y_test=np.asarray(y_test)\n",
        "\n",
        "x_train=x_train.reshape(-1, 32,32,1)\n",
        "print(x_train.shape)\n",
        "y_train = to_categorical(y_train)\n",
        "print(y_train.shape)\n",
        "\n",
        "x_test=x_test.reshape(-1, 32,32,1)\n",
        "print(x_train.shape)\n",
        "y_test_org = y_test\n",
        "y_test = to_categorical(y_test)\n",
        "print(y_train.shape)\n",
        "\n"
      ],
      "metadata": {
        "colab": {
          "base_uri": "https://localhost:8080/"
        },
        "id": "v2T3kRzhaw8r",
        "outputId": "bec7aa97-dfcf-4b14-ad15-5a36d11b0f26"
      },
      "execution_count": null,
      "outputs": [
        {
          "output_type": "stream",
          "name": "stdout",
          "text": [
            "(17000, 32, 32, 1)\n",
            "(17000, 10)\n",
            "(17000, 32, 32, 1)\n",
            "(17000, 10)\n"
          ]
        }
      ]
    },
    {
      "cell_type": "code",
      "source": [
        "training_history = model.fit(x_train, y_train,\n",
        "                             batch_size=batch_size,\n",
        "                             epochs=epochs,\n",
        "                             verbose=1)"
      ],
      "metadata": {
        "colab": {
          "base_uri": "https://localhost:8080/"
        },
        "id": "CVD_yK4Faxee",
        "outputId": "02843ac5-d0c7-4e08-f86a-c68cb1890ce7"
      },
      "execution_count": null,
      "outputs": [
        {
          "output_type": "stream",
          "name": "stdout",
          "text": [
            "Epoch 1/30\n",
            "266/266 [==============================] - 12s 5ms/step - loss: 0.7970 - accuracy: 0.9062\n",
            "Epoch 2/30\n",
            "266/266 [==============================] - 1s 4ms/step - loss: 0.0427 - accuracy: 0.9867\n",
            "Epoch 3/30\n",
            "266/266 [==============================] - 1s 4ms/step - loss: 0.0187 - accuracy: 0.9942\n",
            "Epoch 4/30\n",
            "266/266 [==============================] - 1s 4ms/step - loss: 0.0162 - accuracy: 0.9946\n",
            "Epoch 5/30\n",
            "266/266 [==============================] - 1s 4ms/step - loss: 0.0118 - accuracy: 0.9965\n",
            "Epoch 6/30\n",
            "266/266 [==============================] - 1s 4ms/step - loss: 0.0239 - accuracy: 0.9919\n",
            "Epoch 7/30\n",
            "266/266 [==============================] - 1s 4ms/step - loss: 0.0249 - accuracy: 0.9926\n",
            "Epoch 8/30\n",
            "266/266 [==============================] - 1s 4ms/step - loss: 0.0166 - accuracy: 0.9956\n",
            "Epoch 9/30\n",
            "266/266 [==============================] - 1s 4ms/step - loss: 0.0087 - accuracy: 0.9976\n",
            "Epoch 10/30\n",
            "266/266 [==============================] - 1s 4ms/step - loss: 0.0134 - accuracy: 0.9965\n",
            "Epoch 11/30\n",
            "266/266 [==============================] - 1s 4ms/step - loss: 0.0068 - accuracy: 0.9979\n",
            "Epoch 12/30\n",
            "266/266 [==============================] - 1s 4ms/step - loss: 0.0181 - accuracy: 0.9949\n",
            "Epoch 13/30\n",
            "266/266 [==============================] - 1s 4ms/step - loss: 0.0097 - accuracy: 0.9979\n",
            "Epoch 14/30\n",
            "266/266 [==============================] - 1s 4ms/step - loss: 0.0062 - accuracy: 0.9981\n",
            "Epoch 15/30\n",
            "266/266 [==============================] - 1s 4ms/step - loss: 0.0070 - accuracy: 0.9979\n",
            "Epoch 16/30\n",
            "266/266 [==============================] - 1s 4ms/step - loss: 0.0086 - accuracy: 0.9975\n",
            "Epoch 17/30\n",
            "266/266 [==============================] - 1s 4ms/step - loss: 0.0119 - accuracy: 0.9972\n",
            "Epoch 18/30\n",
            "266/266 [==============================] - 1s 4ms/step - loss: 0.0165 - accuracy: 0.9952\n",
            "Epoch 19/30\n",
            "266/266 [==============================] - 1s 4ms/step - loss: 0.0039 - accuracy: 0.9986\n",
            "Epoch 20/30\n",
            "266/266 [==============================] - 1s 4ms/step - loss: 6.1953e-04 - accuracy: 0.9999\n",
            "Epoch 21/30\n",
            "266/266 [==============================] - 1s 4ms/step - loss: 0.0013 - accuracy: 0.9999\n",
            "Epoch 22/30\n",
            "266/266 [==============================] - 1s 4ms/step - loss: 5.2045e-05 - accuracy: 1.0000\n",
            "Epoch 23/30\n",
            "266/266 [==============================] - 1s 4ms/step - loss: 7.9249e-06 - accuracy: 1.0000\n",
            "Epoch 24/30\n",
            "266/266 [==============================] - 1s 4ms/step - loss: 5.8045e-06 - accuracy: 1.0000\n",
            "Epoch 25/30\n",
            "266/266 [==============================] - 1s 4ms/step - loss: 4.6113e-06 - accuracy: 1.0000\n",
            "Epoch 26/30\n",
            "266/266 [==============================] - 1s 4ms/step - loss: 3.7995e-06 - accuracy: 1.0000\n",
            "Epoch 27/30\n",
            "266/266 [==============================] - 1s 4ms/step - loss: 3.1823e-06 - accuracy: 1.0000\n",
            "Epoch 28/30\n",
            "266/266 [==============================] - 1s 4ms/step - loss: 2.6976e-06 - accuracy: 1.0000\n",
            "Epoch 29/30\n",
            "266/266 [==============================] - 1s 4ms/step - loss: 2.3075e-06 - accuracy: 1.0000\n",
            "Epoch 30/30\n",
            "266/266 [==============================] - 1s 4ms/step - loss: 1.9785e-06 - accuracy: 1.0000\n"
          ]
        }
      ]
    },
    {
      "cell_type": "code",
      "source": [
        "#@Zarif, please put the graph of accuracy vs epoch for both training & validation datasets\n",
        "import plotly.graph_objects as go\n",
        "\n",
        "# Training Accuracy vs Epoch plot\n",
        "accuracy = training_history.history['accuracy']\n",
        "\n",
        "fig = go.Figure()\n",
        "fig.add_trace(go.Scatter(x=np.arange(start=1,stop=len(accuracy)), y=accuracy,\n",
        "                    mode='lines+markers',\n",
        "                    name='Training Accuracy'))\n",
        "fig.update_layout(title = \"Training Accuracy vs Epoch Graph\", title_x = 0.5,\n",
        "                  xaxis_title = 'Epoch',\n",
        "                  yaxis_title = 'Training Accuracy',\n",
        "                  width = 800,\n",
        "                  height = 500)\n",
        "fig.show()"
      ],
      "metadata": {
        "id": "ZJ1we9attskA",
        "colab": {
          "base_uri": "https://localhost:8080/",
          "height": 517
        },
        "outputId": "0086d878-3957-4d29-d0d2-f2d8fc00ff25"
      },
      "execution_count": null,
      "outputs": [
        {
          "output_type": "display_data",
          "data": {
            "text/html": [
              "<html>\n",
              "<head><meta charset=\"utf-8\" /></head>\n",
              "<body>\n",
              "    <div>            <script src=\"https://cdnjs.cloudflare.com/ajax/libs/mathjax/2.7.5/MathJax.js?config=TeX-AMS-MML_SVG\"></script><script type=\"text/javascript\">if (window.MathJax) {MathJax.Hub.Config({SVG: {font: \"STIX-Web\"}});}</script>                <script type=\"text/javascript\">window.PlotlyConfig = {MathJaxConfig: 'local'};</script>\n",
              "        <script src=\"https://cdn.plot.ly/plotly-2.8.3.min.js\"></script>                <div id=\"52d81f23-75dd-4782-89ef-dcaafbc9014e\" class=\"plotly-graph-div\" style=\"height:500px; width:800px;\"></div>            <script type=\"text/javascript\">                                    window.PLOTLYENV=window.PLOTLYENV || {};                                    if (document.getElementById(\"52d81f23-75dd-4782-89ef-dcaafbc9014e\")) {                    Plotly.newPlot(                        \"52d81f23-75dd-4782-89ef-dcaafbc9014e\",                        [{\"mode\":\"lines+markers\",\"name\":\"Training Accuracy\",\"x\":[1,2,3,4,5,6,7,8,9,10,11,12,13,14,15,16,17,18,19,20,21,22,23,24,25,26,27,28,29],\"y\":[0.9061764478683472,0.9867058992385864,0.9942352771759033,0.9945882558822632,0.99647057056427,0.9919411540031433,0.992588222026825,0.9955882430076599,0.9975882172584534,0.9965294003486633,0.9978823661804199,0.9949411749839783,0.9978823661804199,0.9980587959289551,0.9979411959648132,0.9974706172943115,0.9972352981567383,0.9952353239059448,0.9986470341682434,0.9998823404312134,0.9998823404312134,1.0,1.0,1.0,1.0,1.0,1.0,1.0,1.0,1.0],\"type\":\"scatter\"}],                        {\"template\":{\"data\":{\"bar\":[{\"error_x\":{\"color\":\"#2a3f5f\"},\"error_y\":{\"color\":\"#2a3f5f\"},\"marker\":{\"line\":{\"color\":\"#E5ECF6\",\"width\":0.5},\"pattern\":{\"fillmode\":\"overlay\",\"size\":10,\"solidity\":0.2}},\"type\":\"bar\"}],\"barpolar\":[{\"marker\":{\"line\":{\"color\":\"#E5ECF6\",\"width\":0.5},\"pattern\":{\"fillmode\":\"overlay\",\"size\":10,\"solidity\":0.2}},\"type\":\"barpolar\"}],\"carpet\":[{\"aaxis\":{\"endlinecolor\":\"#2a3f5f\",\"gridcolor\":\"white\",\"linecolor\":\"white\",\"minorgridcolor\":\"white\",\"startlinecolor\":\"#2a3f5f\"},\"baxis\":{\"endlinecolor\":\"#2a3f5f\",\"gridcolor\":\"white\",\"linecolor\":\"white\",\"minorgridcolor\":\"white\",\"startlinecolor\":\"#2a3f5f\"},\"type\":\"carpet\"}],\"choropleth\":[{\"colorbar\":{\"outlinewidth\":0,\"ticks\":\"\"},\"type\":\"choropleth\"}],\"contour\":[{\"colorbar\":{\"outlinewidth\":0,\"ticks\":\"\"},\"colorscale\":[[0.0,\"#0d0887\"],[0.1111111111111111,\"#46039f\"],[0.2222222222222222,\"#7201a8\"],[0.3333333333333333,\"#9c179e\"],[0.4444444444444444,\"#bd3786\"],[0.5555555555555556,\"#d8576b\"],[0.6666666666666666,\"#ed7953\"],[0.7777777777777778,\"#fb9f3a\"],[0.8888888888888888,\"#fdca26\"],[1.0,\"#f0f921\"]],\"type\":\"contour\"}],\"contourcarpet\":[{\"colorbar\":{\"outlinewidth\":0,\"ticks\":\"\"},\"type\":\"contourcarpet\"}],\"heatmap\":[{\"colorbar\":{\"outlinewidth\":0,\"ticks\":\"\"},\"colorscale\":[[0.0,\"#0d0887\"],[0.1111111111111111,\"#46039f\"],[0.2222222222222222,\"#7201a8\"],[0.3333333333333333,\"#9c179e\"],[0.4444444444444444,\"#bd3786\"],[0.5555555555555556,\"#d8576b\"],[0.6666666666666666,\"#ed7953\"],[0.7777777777777778,\"#fb9f3a\"],[0.8888888888888888,\"#fdca26\"],[1.0,\"#f0f921\"]],\"type\":\"heatmap\"}],\"heatmapgl\":[{\"colorbar\":{\"outlinewidth\":0,\"ticks\":\"\"},\"colorscale\":[[0.0,\"#0d0887\"],[0.1111111111111111,\"#46039f\"],[0.2222222222222222,\"#7201a8\"],[0.3333333333333333,\"#9c179e\"],[0.4444444444444444,\"#bd3786\"],[0.5555555555555556,\"#d8576b\"],[0.6666666666666666,\"#ed7953\"],[0.7777777777777778,\"#fb9f3a\"],[0.8888888888888888,\"#fdca26\"],[1.0,\"#f0f921\"]],\"type\":\"heatmapgl\"}],\"histogram\":[{\"marker\":{\"pattern\":{\"fillmode\":\"overlay\",\"size\":10,\"solidity\":0.2}},\"type\":\"histogram\"}],\"histogram2d\":[{\"colorbar\":{\"outlinewidth\":0,\"ticks\":\"\"},\"colorscale\":[[0.0,\"#0d0887\"],[0.1111111111111111,\"#46039f\"],[0.2222222222222222,\"#7201a8\"],[0.3333333333333333,\"#9c179e\"],[0.4444444444444444,\"#bd3786\"],[0.5555555555555556,\"#d8576b\"],[0.6666666666666666,\"#ed7953\"],[0.7777777777777778,\"#fb9f3a\"],[0.8888888888888888,\"#fdca26\"],[1.0,\"#f0f921\"]],\"type\":\"histogram2d\"}],\"histogram2dcontour\":[{\"colorbar\":{\"outlinewidth\":0,\"ticks\":\"\"},\"colorscale\":[[0.0,\"#0d0887\"],[0.1111111111111111,\"#46039f\"],[0.2222222222222222,\"#7201a8\"],[0.3333333333333333,\"#9c179e\"],[0.4444444444444444,\"#bd3786\"],[0.5555555555555556,\"#d8576b\"],[0.6666666666666666,\"#ed7953\"],[0.7777777777777778,\"#fb9f3a\"],[0.8888888888888888,\"#fdca26\"],[1.0,\"#f0f921\"]],\"type\":\"histogram2dcontour\"}],\"mesh3d\":[{\"colorbar\":{\"outlinewidth\":0,\"ticks\":\"\"},\"type\":\"mesh3d\"}],\"parcoords\":[{\"line\":{\"colorbar\":{\"outlinewidth\":0,\"ticks\":\"\"}},\"type\":\"parcoords\"}],\"pie\":[{\"automargin\":true,\"type\":\"pie\"}],\"scatter\":[{\"marker\":{\"colorbar\":{\"outlinewidth\":0,\"ticks\":\"\"}},\"type\":\"scatter\"}],\"scatter3d\":[{\"line\":{\"colorbar\":{\"outlinewidth\":0,\"ticks\":\"\"}},\"marker\":{\"colorbar\":{\"outlinewidth\":0,\"ticks\":\"\"}},\"type\":\"scatter3d\"}],\"scattercarpet\":[{\"marker\":{\"colorbar\":{\"outlinewidth\":0,\"ticks\":\"\"}},\"type\":\"scattercarpet\"}],\"scattergeo\":[{\"marker\":{\"colorbar\":{\"outlinewidth\":0,\"ticks\":\"\"}},\"type\":\"scattergeo\"}],\"scattergl\":[{\"marker\":{\"colorbar\":{\"outlinewidth\":0,\"ticks\":\"\"}},\"type\":\"scattergl\"}],\"scattermapbox\":[{\"marker\":{\"colorbar\":{\"outlinewidth\":0,\"ticks\":\"\"}},\"type\":\"scattermapbox\"}],\"scatterpolar\":[{\"marker\":{\"colorbar\":{\"outlinewidth\":0,\"ticks\":\"\"}},\"type\":\"scatterpolar\"}],\"scatterpolargl\":[{\"marker\":{\"colorbar\":{\"outlinewidth\":0,\"ticks\":\"\"}},\"type\":\"scatterpolargl\"}],\"scatterternary\":[{\"marker\":{\"colorbar\":{\"outlinewidth\":0,\"ticks\":\"\"}},\"type\":\"scatterternary\"}],\"surface\":[{\"colorbar\":{\"outlinewidth\":0,\"ticks\":\"\"},\"colorscale\":[[0.0,\"#0d0887\"],[0.1111111111111111,\"#46039f\"],[0.2222222222222222,\"#7201a8\"],[0.3333333333333333,\"#9c179e\"],[0.4444444444444444,\"#bd3786\"],[0.5555555555555556,\"#d8576b\"],[0.6666666666666666,\"#ed7953\"],[0.7777777777777778,\"#fb9f3a\"],[0.8888888888888888,\"#fdca26\"],[1.0,\"#f0f921\"]],\"type\":\"surface\"}],\"table\":[{\"cells\":{\"fill\":{\"color\":\"#EBF0F8\"},\"line\":{\"color\":\"white\"}},\"header\":{\"fill\":{\"color\":\"#C8D4E3\"},\"line\":{\"color\":\"white\"}},\"type\":\"table\"}]},\"layout\":{\"annotationdefaults\":{\"arrowcolor\":\"#2a3f5f\",\"arrowhead\":0,\"arrowwidth\":1},\"autotypenumbers\":\"strict\",\"coloraxis\":{\"colorbar\":{\"outlinewidth\":0,\"ticks\":\"\"}},\"colorscale\":{\"diverging\":[[0,\"#8e0152\"],[0.1,\"#c51b7d\"],[0.2,\"#de77ae\"],[0.3,\"#f1b6da\"],[0.4,\"#fde0ef\"],[0.5,\"#f7f7f7\"],[0.6,\"#e6f5d0\"],[0.7,\"#b8e186\"],[0.8,\"#7fbc41\"],[0.9,\"#4d9221\"],[1,\"#276419\"]],\"sequential\":[[0.0,\"#0d0887\"],[0.1111111111111111,\"#46039f\"],[0.2222222222222222,\"#7201a8\"],[0.3333333333333333,\"#9c179e\"],[0.4444444444444444,\"#bd3786\"],[0.5555555555555556,\"#d8576b\"],[0.6666666666666666,\"#ed7953\"],[0.7777777777777778,\"#fb9f3a\"],[0.8888888888888888,\"#fdca26\"],[1.0,\"#f0f921\"]],\"sequentialminus\":[[0.0,\"#0d0887\"],[0.1111111111111111,\"#46039f\"],[0.2222222222222222,\"#7201a8\"],[0.3333333333333333,\"#9c179e\"],[0.4444444444444444,\"#bd3786\"],[0.5555555555555556,\"#d8576b\"],[0.6666666666666666,\"#ed7953\"],[0.7777777777777778,\"#fb9f3a\"],[0.8888888888888888,\"#fdca26\"],[1.0,\"#f0f921\"]]},\"colorway\":[\"#636efa\",\"#EF553B\",\"#00cc96\",\"#ab63fa\",\"#FFA15A\",\"#19d3f3\",\"#FF6692\",\"#B6E880\",\"#FF97FF\",\"#FECB52\"],\"font\":{\"color\":\"#2a3f5f\"},\"geo\":{\"bgcolor\":\"white\",\"lakecolor\":\"white\",\"landcolor\":\"#E5ECF6\",\"showlakes\":true,\"showland\":true,\"subunitcolor\":\"white\"},\"hoverlabel\":{\"align\":\"left\"},\"hovermode\":\"closest\",\"mapbox\":{\"style\":\"light\"},\"paper_bgcolor\":\"white\",\"plot_bgcolor\":\"#E5ECF6\",\"polar\":{\"angularaxis\":{\"gridcolor\":\"white\",\"linecolor\":\"white\",\"ticks\":\"\"},\"bgcolor\":\"#E5ECF6\",\"radialaxis\":{\"gridcolor\":\"white\",\"linecolor\":\"white\",\"ticks\":\"\"}},\"scene\":{\"xaxis\":{\"backgroundcolor\":\"#E5ECF6\",\"gridcolor\":\"white\",\"gridwidth\":2,\"linecolor\":\"white\",\"showbackground\":true,\"ticks\":\"\",\"zerolinecolor\":\"white\"},\"yaxis\":{\"backgroundcolor\":\"#E5ECF6\",\"gridcolor\":\"white\",\"gridwidth\":2,\"linecolor\":\"white\",\"showbackground\":true,\"ticks\":\"\",\"zerolinecolor\":\"white\"},\"zaxis\":{\"backgroundcolor\":\"#E5ECF6\",\"gridcolor\":\"white\",\"gridwidth\":2,\"linecolor\":\"white\",\"showbackground\":true,\"ticks\":\"\",\"zerolinecolor\":\"white\"}},\"shapedefaults\":{\"line\":{\"color\":\"#2a3f5f\"}},\"ternary\":{\"aaxis\":{\"gridcolor\":\"white\",\"linecolor\":\"white\",\"ticks\":\"\"},\"baxis\":{\"gridcolor\":\"white\",\"linecolor\":\"white\",\"ticks\":\"\"},\"bgcolor\":\"#E5ECF6\",\"caxis\":{\"gridcolor\":\"white\",\"linecolor\":\"white\",\"ticks\":\"\"}},\"title\":{\"x\":0.05},\"xaxis\":{\"automargin\":true,\"gridcolor\":\"white\",\"linecolor\":\"white\",\"ticks\":\"\",\"title\":{\"standoff\":15},\"zerolinecolor\":\"white\",\"zerolinewidth\":2},\"yaxis\":{\"automargin\":true,\"gridcolor\":\"white\",\"linecolor\":\"white\",\"ticks\":\"\",\"title\":{\"standoff\":15},\"zerolinecolor\":\"white\",\"zerolinewidth\":2}}},\"title\":{\"text\":\"Training Accuracy vs Epoch Graph\",\"x\":0.5},\"xaxis\":{\"title\":{\"text\":\"Epoch\"}},\"yaxis\":{\"title\":{\"text\":\"Training Accuracy\"}},\"width\":800,\"height\":500},                        {\"responsive\": true}                    ).then(function(){\n",
              "                            \n",
              "var gd = document.getElementById('52d81f23-75dd-4782-89ef-dcaafbc9014e');\n",
              "var x = new MutationObserver(function (mutations, observer) {{\n",
              "        var display = window.getComputedStyle(gd).display;\n",
              "        if (!display || display === 'none') {{\n",
              "            console.log([gd, 'removed!']);\n",
              "            Plotly.purge(gd);\n",
              "            observer.disconnect();\n",
              "        }}\n",
              "}});\n",
              "\n",
              "// Listen for the removal of the full notebook cells\n",
              "var notebookContainer = gd.closest('#notebook-container');\n",
              "if (notebookContainer) {{\n",
              "    x.observe(notebookContainer, {childList: true});\n",
              "}}\n",
              "\n",
              "// Listen for the clearing of the current output cell\n",
              "var outputEl = gd.closest('.output');\n",
              "if (outputEl) {{\n",
              "    x.observe(outputEl, {childList: true});\n",
              "}}\n",
              "\n",
              "                        })                };                            </script>        </div>\n",
              "</body>\n",
              "</html>"
            ]
          },
          "metadata": {}
        }
      ]
    },
    {
      "cell_type": "code",
      "source": [
        "# Training Loss vs Epoch plot\n",
        "loss = training_history.history['loss']\n",
        "\n",
        "fig = go.Figure()\n",
        "fig.add_trace(go.Scatter(x=np.arange(start=1,stop=len(loss)), y=loss,\n",
        "                    mode='lines+markers',\n",
        "                    name='Training Loss'))\n",
        "fig.update_layout(title = \"Training Loss vs Epoch Graph\", title_x = 0.5,\n",
        "                  xaxis_title = 'Epoch',\n",
        "                  yaxis_title = 'Training Loss',\n",
        "                  width = 800,\n",
        "                  height = 500)\n",
        "fig.show()"
      ],
      "metadata": {
        "colab": {
          "base_uri": "https://localhost:8080/",
          "height": 517
        },
        "id": "fa5ctgwDV489",
        "outputId": "d8553a10-cbde-4a12-dd06-d13a3dd76c2e"
      },
      "execution_count": null,
      "outputs": [
        {
          "output_type": "display_data",
          "data": {
            "text/html": [
              "<html>\n",
              "<head><meta charset=\"utf-8\" /></head>\n",
              "<body>\n",
              "    <div>            <script src=\"https://cdnjs.cloudflare.com/ajax/libs/mathjax/2.7.5/MathJax.js?config=TeX-AMS-MML_SVG\"></script><script type=\"text/javascript\">if (window.MathJax) {MathJax.Hub.Config({SVG: {font: \"STIX-Web\"}});}</script>                <script type=\"text/javascript\">window.PlotlyConfig = {MathJaxConfig: 'local'};</script>\n",
              "        <script src=\"https://cdn.plot.ly/plotly-2.8.3.min.js\"></script>                <div id=\"37e76059-9975-4ea5-999b-fa5c2863adcd\" class=\"plotly-graph-div\" style=\"height:500px; width:800px;\"></div>            <script type=\"text/javascript\">                                    window.PLOTLYENV=window.PLOTLYENV || {};                                    if (document.getElementById(\"37e76059-9975-4ea5-999b-fa5c2863adcd\")) {                    Plotly.newPlot(                        \"37e76059-9975-4ea5-999b-fa5c2863adcd\",                        [{\"mode\":\"lines+markers\",\"name\":\"Training Loss\",\"x\":[1,2,3,4,5,6,7,8,9,10,11,12,13,14,15,16,17,18,19,20,21,22,23,24,25,26,27,28,29],\"y\":[0.7969562411308289,0.042714208364486694,0.01865263283252716,0.016222860664129257,0.011805041693150997,0.02392405830323696,0.024920344352722168,0.01663818024098873,0.008669163100421429,0.013374621979892254,0.006816364359110594,0.018123073503375053,0.009722843766212463,0.006187414284795523,0.007029327098280191,0.008648492395877838,0.011894133873283863,0.016497954726219177,0.003925916738808155,0.0006195277092047036,0.001294870162382722,5.204475746722892e-05,7.92493847256992e-06,5.804528882435989e-06,4.611253643815871e-06,3.799532805714989e-06,3.1823396966501605e-06,2.6975835680786986e-06,2.307484464836307e-06,1.978540922209504e-06],\"type\":\"scatter\"}],                        {\"template\":{\"data\":{\"bar\":[{\"error_x\":{\"color\":\"#2a3f5f\"},\"error_y\":{\"color\":\"#2a3f5f\"},\"marker\":{\"line\":{\"color\":\"#E5ECF6\",\"width\":0.5},\"pattern\":{\"fillmode\":\"overlay\",\"size\":10,\"solidity\":0.2}},\"type\":\"bar\"}],\"barpolar\":[{\"marker\":{\"line\":{\"color\":\"#E5ECF6\",\"width\":0.5},\"pattern\":{\"fillmode\":\"overlay\",\"size\":10,\"solidity\":0.2}},\"type\":\"barpolar\"}],\"carpet\":[{\"aaxis\":{\"endlinecolor\":\"#2a3f5f\",\"gridcolor\":\"white\",\"linecolor\":\"white\",\"minorgridcolor\":\"white\",\"startlinecolor\":\"#2a3f5f\"},\"baxis\":{\"endlinecolor\":\"#2a3f5f\",\"gridcolor\":\"white\",\"linecolor\":\"white\",\"minorgridcolor\":\"white\",\"startlinecolor\":\"#2a3f5f\"},\"type\":\"carpet\"}],\"choropleth\":[{\"colorbar\":{\"outlinewidth\":0,\"ticks\":\"\"},\"type\":\"choropleth\"}],\"contour\":[{\"colorbar\":{\"outlinewidth\":0,\"ticks\":\"\"},\"colorscale\":[[0.0,\"#0d0887\"],[0.1111111111111111,\"#46039f\"],[0.2222222222222222,\"#7201a8\"],[0.3333333333333333,\"#9c179e\"],[0.4444444444444444,\"#bd3786\"],[0.5555555555555556,\"#d8576b\"],[0.6666666666666666,\"#ed7953\"],[0.7777777777777778,\"#fb9f3a\"],[0.8888888888888888,\"#fdca26\"],[1.0,\"#f0f921\"]],\"type\":\"contour\"}],\"contourcarpet\":[{\"colorbar\":{\"outlinewidth\":0,\"ticks\":\"\"},\"type\":\"contourcarpet\"}],\"heatmap\":[{\"colorbar\":{\"outlinewidth\":0,\"ticks\":\"\"},\"colorscale\":[[0.0,\"#0d0887\"],[0.1111111111111111,\"#46039f\"],[0.2222222222222222,\"#7201a8\"],[0.3333333333333333,\"#9c179e\"],[0.4444444444444444,\"#bd3786\"],[0.5555555555555556,\"#d8576b\"],[0.6666666666666666,\"#ed7953\"],[0.7777777777777778,\"#fb9f3a\"],[0.8888888888888888,\"#fdca26\"],[1.0,\"#f0f921\"]],\"type\":\"heatmap\"}],\"heatmapgl\":[{\"colorbar\":{\"outlinewidth\":0,\"ticks\":\"\"},\"colorscale\":[[0.0,\"#0d0887\"],[0.1111111111111111,\"#46039f\"],[0.2222222222222222,\"#7201a8\"],[0.3333333333333333,\"#9c179e\"],[0.4444444444444444,\"#bd3786\"],[0.5555555555555556,\"#d8576b\"],[0.6666666666666666,\"#ed7953\"],[0.7777777777777778,\"#fb9f3a\"],[0.8888888888888888,\"#fdca26\"],[1.0,\"#f0f921\"]],\"type\":\"heatmapgl\"}],\"histogram\":[{\"marker\":{\"pattern\":{\"fillmode\":\"overlay\",\"size\":10,\"solidity\":0.2}},\"type\":\"histogram\"}],\"histogram2d\":[{\"colorbar\":{\"outlinewidth\":0,\"ticks\":\"\"},\"colorscale\":[[0.0,\"#0d0887\"],[0.1111111111111111,\"#46039f\"],[0.2222222222222222,\"#7201a8\"],[0.3333333333333333,\"#9c179e\"],[0.4444444444444444,\"#bd3786\"],[0.5555555555555556,\"#d8576b\"],[0.6666666666666666,\"#ed7953\"],[0.7777777777777778,\"#fb9f3a\"],[0.8888888888888888,\"#fdca26\"],[1.0,\"#f0f921\"]],\"type\":\"histogram2d\"}],\"histogram2dcontour\":[{\"colorbar\":{\"outlinewidth\":0,\"ticks\":\"\"},\"colorscale\":[[0.0,\"#0d0887\"],[0.1111111111111111,\"#46039f\"],[0.2222222222222222,\"#7201a8\"],[0.3333333333333333,\"#9c179e\"],[0.4444444444444444,\"#bd3786\"],[0.5555555555555556,\"#d8576b\"],[0.6666666666666666,\"#ed7953\"],[0.7777777777777778,\"#fb9f3a\"],[0.8888888888888888,\"#fdca26\"],[1.0,\"#f0f921\"]],\"type\":\"histogram2dcontour\"}],\"mesh3d\":[{\"colorbar\":{\"outlinewidth\":0,\"ticks\":\"\"},\"type\":\"mesh3d\"}],\"parcoords\":[{\"line\":{\"colorbar\":{\"outlinewidth\":0,\"ticks\":\"\"}},\"type\":\"parcoords\"}],\"pie\":[{\"automargin\":true,\"type\":\"pie\"}],\"scatter\":[{\"marker\":{\"colorbar\":{\"outlinewidth\":0,\"ticks\":\"\"}},\"type\":\"scatter\"}],\"scatter3d\":[{\"line\":{\"colorbar\":{\"outlinewidth\":0,\"ticks\":\"\"}},\"marker\":{\"colorbar\":{\"outlinewidth\":0,\"ticks\":\"\"}},\"type\":\"scatter3d\"}],\"scattercarpet\":[{\"marker\":{\"colorbar\":{\"outlinewidth\":0,\"ticks\":\"\"}},\"type\":\"scattercarpet\"}],\"scattergeo\":[{\"marker\":{\"colorbar\":{\"outlinewidth\":0,\"ticks\":\"\"}},\"type\":\"scattergeo\"}],\"scattergl\":[{\"marker\":{\"colorbar\":{\"outlinewidth\":0,\"ticks\":\"\"}},\"type\":\"scattergl\"}],\"scattermapbox\":[{\"marker\":{\"colorbar\":{\"outlinewidth\":0,\"ticks\":\"\"}},\"type\":\"scattermapbox\"}],\"scatterpolar\":[{\"marker\":{\"colorbar\":{\"outlinewidth\":0,\"ticks\":\"\"}},\"type\":\"scatterpolar\"}],\"scatterpolargl\":[{\"marker\":{\"colorbar\":{\"outlinewidth\":0,\"ticks\":\"\"}},\"type\":\"scatterpolargl\"}],\"scatterternary\":[{\"marker\":{\"colorbar\":{\"outlinewidth\":0,\"ticks\":\"\"}},\"type\":\"scatterternary\"}],\"surface\":[{\"colorbar\":{\"outlinewidth\":0,\"ticks\":\"\"},\"colorscale\":[[0.0,\"#0d0887\"],[0.1111111111111111,\"#46039f\"],[0.2222222222222222,\"#7201a8\"],[0.3333333333333333,\"#9c179e\"],[0.4444444444444444,\"#bd3786\"],[0.5555555555555556,\"#d8576b\"],[0.6666666666666666,\"#ed7953\"],[0.7777777777777778,\"#fb9f3a\"],[0.8888888888888888,\"#fdca26\"],[1.0,\"#f0f921\"]],\"type\":\"surface\"}],\"table\":[{\"cells\":{\"fill\":{\"color\":\"#EBF0F8\"},\"line\":{\"color\":\"white\"}},\"header\":{\"fill\":{\"color\":\"#C8D4E3\"},\"line\":{\"color\":\"white\"}},\"type\":\"table\"}]},\"layout\":{\"annotationdefaults\":{\"arrowcolor\":\"#2a3f5f\",\"arrowhead\":0,\"arrowwidth\":1},\"autotypenumbers\":\"strict\",\"coloraxis\":{\"colorbar\":{\"outlinewidth\":0,\"ticks\":\"\"}},\"colorscale\":{\"diverging\":[[0,\"#8e0152\"],[0.1,\"#c51b7d\"],[0.2,\"#de77ae\"],[0.3,\"#f1b6da\"],[0.4,\"#fde0ef\"],[0.5,\"#f7f7f7\"],[0.6,\"#e6f5d0\"],[0.7,\"#b8e186\"],[0.8,\"#7fbc41\"],[0.9,\"#4d9221\"],[1,\"#276419\"]],\"sequential\":[[0.0,\"#0d0887\"],[0.1111111111111111,\"#46039f\"],[0.2222222222222222,\"#7201a8\"],[0.3333333333333333,\"#9c179e\"],[0.4444444444444444,\"#bd3786\"],[0.5555555555555556,\"#d8576b\"],[0.6666666666666666,\"#ed7953\"],[0.7777777777777778,\"#fb9f3a\"],[0.8888888888888888,\"#fdca26\"],[1.0,\"#f0f921\"]],\"sequentialminus\":[[0.0,\"#0d0887\"],[0.1111111111111111,\"#46039f\"],[0.2222222222222222,\"#7201a8\"],[0.3333333333333333,\"#9c179e\"],[0.4444444444444444,\"#bd3786\"],[0.5555555555555556,\"#d8576b\"],[0.6666666666666666,\"#ed7953\"],[0.7777777777777778,\"#fb9f3a\"],[0.8888888888888888,\"#fdca26\"],[1.0,\"#f0f921\"]]},\"colorway\":[\"#636efa\",\"#EF553B\",\"#00cc96\",\"#ab63fa\",\"#FFA15A\",\"#19d3f3\",\"#FF6692\",\"#B6E880\",\"#FF97FF\",\"#FECB52\"],\"font\":{\"color\":\"#2a3f5f\"},\"geo\":{\"bgcolor\":\"white\",\"lakecolor\":\"white\",\"landcolor\":\"#E5ECF6\",\"showlakes\":true,\"showland\":true,\"subunitcolor\":\"white\"},\"hoverlabel\":{\"align\":\"left\"},\"hovermode\":\"closest\",\"mapbox\":{\"style\":\"light\"},\"paper_bgcolor\":\"white\",\"plot_bgcolor\":\"#E5ECF6\",\"polar\":{\"angularaxis\":{\"gridcolor\":\"white\",\"linecolor\":\"white\",\"ticks\":\"\"},\"bgcolor\":\"#E5ECF6\",\"radialaxis\":{\"gridcolor\":\"white\",\"linecolor\":\"white\",\"ticks\":\"\"}},\"scene\":{\"xaxis\":{\"backgroundcolor\":\"#E5ECF6\",\"gridcolor\":\"white\",\"gridwidth\":2,\"linecolor\":\"white\",\"showbackground\":true,\"ticks\":\"\",\"zerolinecolor\":\"white\"},\"yaxis\":{\"backgroundcolor\":\"#E5ECF6\",\"gridcolor\":\"white\",\"gridwidth\":2,\"linecolor\":\"white\",\"showbackground\":true,\"ticks\":\"\",\"zerolinecolor\":\"white\"},\"zaxis\":{\"backgroundcolor\":\"#E5ECF6\",\"gridcolor\":\"white\",\"gridwidth\":2,\"linecolor\":\"white\",\"showbackground\":true,\"ticks\":\"\",\"zerolinecolor\":\"white\"}},\"shapedefaults\":{\"line\":{\"color\":\"#2a3f5f\"}},\"ternary\":{\"aaxis\":{\"gridcolor\":\"white\",\"linecolor\":\"white\",\"ticks\":\"\"},\"baxis\":{\"gridcolor\":\"white\",\"linecolor\":\"white\",\"ticks\":\"\"},\"bgcolor\":\"#E5ECF6\",\"caxis\":{\"gridcolor\":\"white\",\"linecolor\":\"white\",\"ticks\":\"\"}},\"title\":{\"x\":0.05},\"xaxis\":{\"automargin\":true,\"gridcolor\":\"white\",\"linecolor\":\"white\",\"ticks\":\"\",\"title\":{\"standoff\":15},\"zerolinecolor\":\"white\",\"zerolinewidth\":2},\"yaxis\":{\"automargin\":true,\"gridcolor\":\"white\",\"linecolor\":\"white\",\"ticks\":\"\",\"title\":{\"standoff\":15},\"zerolinecolor\":\"white\",\"zerolinewidth\":2}}},\"title\":{\"text\":\"Training Loss vs Epoch Graph\",\"x\":0.5},\"xaxis\":{\"title\":{\"text\":\"Epoch\"}},\"yaxis\":{\"title\":{\"text\":\"Training Loss\"}},\"width\":800,\"height\":500},                        {\"responsive\": true}                    ).then(function(){\n",
              "                            \n",
              "var gd = document.getElementById('37e76059-9975-4ea5-999b-fa5c2863adcd');\n",
              "var x = new MutationObserver(function (mutations, observer) {{\n",
              "        var display = window.getComputedStyle(gd).display;\n",
              "        if (!display || display === 'none') {{\n",
              "            console.log([gd, 'removed!']);\n",
              "            Plotly.purge(gd);\n",
              "            observer.disconnect();\n",
              "        }}\n",
              "}});\n",
              "\n",
              "// Listen for the removal of the full notebook cells\n",
              "var notebookContainer = gd.closest('#notebook-container');\n",
              "if (notebookContainer) {{\n",
              "    x.observe(notebookContainer, {childList: true});\n",
              "}}\n",
              "\n",
              "// Listen for the clearing of the current output cell\n",
              "var outputEl = gd.closest('.output');\n",
              "if (outputEl) {{\n",
              "    x.observe(outputEl, {childList: true});\n",
              "}}\n",
              "\n",
              "                        })                };                            </script>        </div>\n",
              "</body>\n",
              "</html>"
            ]
          },
          "metadata": {}
        }
      ]
    },
    {
      "cell_type": "code",
      "source": [
        "predicted_classes = model.predict(x_test)\n",
        "predicted_classes.shape, y_test.shape"
      ],
      "metadata": {
        "colab": {
          "base_uri": "https://localhost:8080/"
        },
        "id": "rrk4yBduazyy",
        "outputId": "8b1b13c1-e8bc-4bce-cdfc-9db5e2a3f9a6"
      },
      "execution_count": null,
      "outputs": [
        {
          "output_type": "execute_result",
          "data": {
            "text/plain": [
              "((3000, 10), (3000, 10))"
            ]
          },
          "metadata": {},
          "execution_count": 22
        }
      ]
    },
    {
      "cell_type": "code",
      "source": [
        "predicted_classes = np.argmax(np.round(predicted_classes),axis=1)\n",
        "predicted_classes.shape"
      ],
      "metadata": {
        "colab": {
          "base_uri": "https://localhost:8080/"
        },
        "id": "x3md13KVa4od",
        "outputId": "92be5ec6-afa0-42ba-e81e-047023a216d5"
      },
      "execution_count": null,
      "outputs": [
        {
          "output_type": "execute_result",
          "data": {
            "text/plain": [
              "(3000,)"
            ]
          },
          "metadata": {},
          "execution_count": 23
        }
      ]
    },
    {
      "cell_type": "code",
      "source": [
        "print(predicted_classes)\n",
        "y_test_org=y_test_org.astype(np.int)\n",
        "print(y_test_org)\n",
        "y_test_org=y_test_org.astype(np.int)\n",
        "print(y_test_org)\n",
        "print(type(y_test_org[0]))"
      ],
      "metadata": {
        "colab": {
          "base_uri": "https://localhost:8080/"
        },
        "id": "pktZKtXbhysP",
        "outputId": "883c24fe-56fe-48f0-bdbf-8cab8b1edc8a"
      },
      "execution_count": null,
      "outputs": [
        {
          "output_type": "stream",
          "name": "stdout",
          "text": [
            "[8 8 8 ... 3 3 3]\n",
            "[8 8 8 ... 3 3 3]\n",
            "[8 8 8 ... 3 3 3]\n",
            "<class 'numpy.int64'>\n"
          ]
        },
        {
          "output_type": "stream",
          "name": "stderr",
          "text": [
            "/usr/local/lib/python3.7/dist-packages/ipykernel_launcher.py:2: DeprecationWarning:\n",
            "\n",
            "`np.int` is a deprecated alias for the builtin `int`. To silence this warning, use `int` by itself. Doing this will not modify any behavior and is safe. When replacing `np.int`, you may wish to use e.g. `np.int64` or `np.int32` to specify the precision. If you wish to review your current use, check the release note link for additional information.\n",
            "Deprecated in NumPy 1.20; for more details and guidance: https://numpy.org/devdocs/release/1.20.0-notes.html#deprecations\n",
            "\n",
            "/usr/local/lib/python3.7/dist-packages/ipykernel_launcher.py:4: DeprecationWarning:\n",
            "\n",
            "`np.int` is a deprecated alias for the builtin `int`. To silence this warning, use `int` by itself. Doing this will not modify any behavior and is safe. When replacing `np.int`, you may wish to use e.g. `np.int64` or `np.int32` to specify the precision. If you wish to review your current use, check the release note link for additional information.\n",
            "Deprecated in NumPy 1.20; for more details and guidance: https://numpy.org/devdocs/release/1.20.0-notes.html#deprecations\n",
            "\n"
          ]
        }
      ]
    },
    {
      "cell_type": "code",
      "source": [
        "#Print the test accuracy here\n",
        "correctly_classified = len(np.where(predicted_classes==y_test_org)[0])\n",
        "misclassified = y_test_org.shape[0] - correctly_classified\n",
        "test_accuracy = correctly_classified/(correctly_classified + misclassified)*100\n",
        "print(\"Test accuracy =\",test_accuracy,\"%\")"
      ],
      "metadata": {
        "id": "tw5GUyN0XnNV",
        "colab": {
          "base_uri": "https://localhost:8080/"
        },
        "outputId": "15b1ad0c-07eb-4c46-e5ca-195e02821329"
      },
      "execution_count": null,
      "outputs": [
        {
          "output_type": "stream",
          "name": "stdout",
          "text": [
            "Test accuracy = 99.5 %\n"
          ]
        }
      ]
    },
    {
      "cell_type": "code",
      "source": [
        "correct = np.where(predicted_classes==y_test_org)[0]\n",
        "print(f'Misclassified labels - {(y_test_org.shape[0]) - len(correct)}')\n",
        "cnt = 0\n",
        "for i in range (0,len(y_test_org)):\n",
        "  if(predicted_classes[i]!=y_test_org[i]):\n",
        "    \n",
        "    plt.subplot(3,3,cnt+1)\n",
        "    plt.imshow(x_test[i].reshape(32,32), cmap='gray', interpolation='none')\n",
        "    plt.title(\"Predicted {}, Class {}\".format(predicted_classes[i], y_test_org[i]))\n",
        "    plt.tight_layout()\n",
        "    cnt+=1\n",
        "    if(cnt==9):\n",
        "      break"
      ],
      "metadata": {
        "colab": {
          "base_uri": "https://localhost:8080/",
          "height": 314
        },
        "id": "aurEZrDuhhFh",
        "outputId": "49ca4477-361e-4478-839d-5a3e586b9c3a"
      },
      "execution_count": null,
      "outputs": [
        {
          "output_type": "stream",
          "name": "stdout",
          "text": [
            "Misclassified labels - 15\n"
          ]
        },
        {
          "output_type": "display_data",
          "data": {
            "text/plain": [
              "<Figure size 432x288 with 9 Axes>"
            ],
            "image/png": "[encoded data removed]"
          },
          "metadata": {
            "needs_background": "light"
          }
        }
      ]
    },
    {
      "cell_type": "code",
      "source": [
        "print(correct)"
      ],
      "metadata": {
        "colab": {
          "base_uri": "https://localhost:8080/"
        },
        "id": "SKsqz7lAcsxk",
        "outputId": "44b1d33d-3426-4e2e-a4bd-8fa8030b1e26"
      },
      "execution_count": null,
      "outputs": [
        {
          "output_type": "stream",
          "name": "stdout",
          "text": [
            "[   0    1    2 ... 2997 2998 2999]\n"
          ]
        }
      ]
    },
    {
      "cell_type": "code",
      "source": [
        "#@ Muhammad please put a picture of a correctly classified sample of each digit\n",
        "for numb in range(5):\n",
        "  for i in range (0,len(y_test_org)):\n",
        "    if predicted_classes[i] == numb and i in correct:\n",
        "      print(numb,predicted_classes[i], i)\n",
        "      plt.subplot(2,3,numb+1)\n",
        "      plt.imshow(x_test[i].reshape(32,32), cmap='gray', interpolation='none')\n",
        "      plt.title(\"Pred {}, Class {}\".format(predicted_classes[i], y_test_org[i]))\n",
        "      plt.tight_layout()\n",
        "      break"
      ],
      "metadata": {
        "id": "qhmhqDJ7t3rd",
        "colab": {
          "base_uri": "https://localhost:8080/",
          "height": 384
        },
        "outputId": "cca8ed3c-6202-4872-b8fd-532e5f306923"
      },
      "execution_count": null,
      "outputs": [
        {
          "output_type": "stream",
          "name": "stdout",
          "text": [
            "0 0 1800\n",
            "1 1 2400\n",
            "2 2 1200\n",
            "3 3 2700\n",
            "4 4 900\n"
          ]
        },
        {
          "output_type": "display_data",
          "data": {
            "text/plain": [
              "<Figure size 432x288 with 5 Axes>"
            ],
            "image/png": "[encoded data removed]"
          },
          "metadata": {
            "needs_background": "light"
          }
        }
      ]
    },
    {
      "cell_type": "code",
      "source": [
        "for numb in range(5,10):\n",
        "  for i in range (0,len(y_test_org)):\n",
        "    if predicted_classes[i] == numb and i in correct:\n",
        "      print(numb,predicted_classes[i], i)\n",
        "      plt.subplot(2,3,numb-4)\n",
        "      plt.imshow(x_test[i].reshape(32,32), cmap='gray', interpolation='none')\n",
        "      plt.title(\"Pred {}, Class {}\".format(predicted_classes[i], y_test_org[i]))\n",
        "      plt.tight_layout()\n",
        "      break"
      ],
      "metadata": {
        "colab": {
          "base_uri": "https://localhost:8080/",
          "height": 384
        },
        "id": "xzXJhv2Ndgjr",
        "outputId": "0ff42bf4-fa43-4553-b2d3-4f3b6b88367c"
      },
      "execution_count": null,
      "outputs": [
        {
          "output_type": "stream",
          "name": "stdout",
          "text": [
            "5 5 300\n",
            "6 6 1500\n",
            "7 7 600\n",
            "8 8 0\n",
            "9 9 2100\n"
          ]
        },
        {
          "output_type": "display_data",
          "data": {
            "text/plain": [
              "<Figure size 432x288 with 5 Axes>"
            ],
            "image/png": "[encoded data removed]"
          },
          "metadata": {
            "needs_background": "light"
          }
        }
      ]
    },
    {
      "cell_type": "code",
      "source": [
        "from google.colab import drive\n",
        "drive.mount('/content/drive')\n",
        "\n",
        "from keras.models import load_model\n",
        "\n",
        "MODEL_PATH = './drive/My Drive/model.h5'\n",
        "\n",
        "# Now save model in drive\n",
        "model.save(MODEL_PATH)\n",
        "\n",
        "# Load Model\n",
        "model = load_model(MODEL_PATH)\n"
      ],
      "metadata": {
        "colab": {
          "base_uri": "https://localhost:8080/"
        },
        "id": "foFtbdzAj2ly",
        "outputId": "4c479aa2-f419-4bb0-9bc9-3627352a349a"
      },
      "execution_count": null,
      "outputs": [
        {
          "output_type": "stream",
          "name": "stdout",
          "text": [
            "Mounted at /content/drive\n"
          ]
        }
      ]
    },
    {
      "cell_type": "code",
      "source": [],
      "metadata": {
        "id": "n3PqI5UYkjX7"
      },
      "execution_count": null,
      "outputs": []
    },
    {
      "cell_type": "markdown",
      "source": [
        "#UI function"
      ],
      "metadata": {
        "id": "ukJosagrLf5B"
      }
    },
    {
      "cell_type": "code",
      "source": [
        "from google.colab import drive\n",
        "drive.mount('/content/drive')\n",
        "\n",
        "from keras.models import load_model\n",
        "MODEL_PATH = './drive/My Drive/model.h5'\n",
        "model = load_model(MODEL_PATH)"
      ],
      "metadata": {
        "colab": {
          "base_uri": "https://localhost:8080/"
        },
        "id": "J8hv_LK2rnrg",
        "outputId": "a006dca5-22e4-4b21-e0db-5a54b1b911fa"
      },
      "execution_count": null,
      "outputs": [
        {
          "output_type": "stream",
          "name": "stdout",
          "text": [
            "Mounted at /content/drive\n"
          ]
        }
      ]
    },
    {
      "cell_type": "code",
      "source": [
        "def read_image(filename=\"user_input\"):\n",
        "## Resize to 32 x 32\n",
        "  from PIL import Image\n",
        "  picture=Image.open('/content/'+filename).resize((32,32),Image.LANCZOS).convert('L')\n",
        "##convert to pixel array\n",
        "  pixels=np.array(picture).reshape(-1,32,32,1)\n",
        "##predict\n",
        "  prediction=model.predict(pixels)\n",
        "  return np.argmax(np.round(prediction),axis=1)[0],pixels"
      ],
      "metadata": {
        "id": "RWbKXI-iTUPQ"
      },
      "execution_count": null,
      "outputs": []
    },
    {
      "cell_type": "code",
      "source": [
        "# @ Zarif please put 5 pictures for each digit ( Total 5*10 = 50 grayscale pictures ) from the dataset  here\n",
        "# You can use multiple cells\n",
        "import random,os\n",
        "import numpy as np\n",
        "from PIL import Image\n",
        "\n",
        "sample_count=5\n",
        "dir='/content/Hindi Digit Dataset/Train'\n",
        "folder_names=os.listdir(dir)\n",
        "folder_names.sort()"
      ],
      "metadata": {
        "id": "sx_RacXqrUHa"
      },
      "execution_count": null,
      "outputs": []
    },
    {
      "cell_type": "code",
      "source": [
        "# function to draw n grayscale samples of a digit\n",
        "# param => the digit to draw \n",
        "def show_samples_of_the_digit(digit):\n",
        "  plot_idx=1\n",
        "  folder_name=folder_names[digit]\n",
        "  files_path=os.path.join(dir,folder_name)\n",
        "  file_names=random.sample(os.listdir(files_path),sample_count)\n",
        "  for file_name in file_names:\n",
        "    filepath=os.path.join(dir,folder_name,file_name)\n",
        "    img=np.array(Image.open(filepath))\n",
        "    plt.subplot(1,sample_count,plot_idx)\n",
        "    plt.imshow(img, cmap='gray')\n",
        "    plt.title(\"Digit: {}\".format(folder_name[-1]))\n",
        "    plt.tight_layout()\n",
        "    plot_idx+=1"
      ],
      "metadata": {
        "id": "Ba_U9IzLuKUa"
      },
      "execution_count": null,
      "outputs": []
    },
    {
      "cell_type": "code",
      "source": [
        "import matplotlib.pyplot as plt\n",
        "import gzip\n",
        "import pickle\n",
        "import numpy as np"
      ],
      "metadata": {
        "id": "BNCBt8x1rhfj"
      },
      "execution_count": null,
      "outputs": []
    },
    {
      "cell_type": "code",
      "source": [
        "# digit: 0\n",
        "show_samples_of_the_digit(0)"
      ],
      "metadata": {
        "id": "-miPJz92u4CJ",
        "colab": {
          "base_uri": "https://localhost:8080/",
          "height": 118
        },
        "outputId": "5aae1d94-e4b6-40ac-848a-2ce41daa6fe8"
      },
      "execution_count": null,
      "outputs": [
        {
          "output_type": "display_data",
          "data": {
            "text/plain": [
              "<Figure size 432x288 with 5 Axes>"
            ],
            "image/png": "[encoded data removed]"
          },
          "metadata": {
            "needs_background": "light"
          }
        }
      ]
    },
    {
      "cell_type": "code",
      "source": [
        "# digit: 1\n",
        "show_samples_of_the_digit(1)"
      ],
      "metadata": {
        "id": "CEPNPRS-u-cY",
        "colab": {
          "base_uri": "https://localhost:8080/",
          "height": 118
        },
        "outputId": "6d879d6f-b5dc-45fe-a8bc-d3f46a762730"
      },
      "execution_count": null,
      "outputs": [
        {
          "output_type": "display_data",
          "data": {
            "text/plain": [
              "<Figure size 432x288 with 5 Axes>"
            ],
            "image/png": "[encoded data removed]"
          },
          "metadata": {
            "needs_background": "light"
          }
        }
      ]
    },
    {
      "cell_type": "code",
      "source": [
        "# digit: 2\n",
        "show_samples_of_the_digit(2)"
      ],
      "metadata": {
        "id": "VMTw8LGbvDIa",
        "colab": {
          "base_uri": "https://localhost:8080/",
          "height": 118
        },
        "outputId": "55104557-1fba-4809-c5a2-9ce003bc56d3"
      },
      "execution_count": null,
      "outputs": [
        {
          "output_type": "display_data",
          "data": {
            "text/plain": [
              "<Figure size 432x288 with 5 Axes>"
            ],
            "image/png": "[encoded data removed]"
          },
          "metadata": {
            "needs_background": "light"
          }
        }
      ]
    },
    {
      "cell_type": "code",
      "source": [
        "# digit: 3\n",
        "show_samples_of_the_digit(3)"
      ],
      "metadata": {
        "id": "BdH3z2XmvHMW",
        "colab": {
          "base_uri": "https://localhost:8080/",
          "height": 118
        },
        "outputId": "3264c01c-10da-43ab-ced6-3aa5a46a31de"
      },
      "execution_count": null,
      "outputs": [
        {
          "output_type": "display_data",
          "data": {
            "text/plain": [
              "<Figure size 432x288 with 5 Axes>"
            ],
            "image/png": "[encoded data removed]"
          },
          "metadata": {
            "needs_background": "light"
          }
        }
      ]
    },
    {
      "cell_type": "code",
      "source": [
        "# digit: 4\n",
        "show_samples_of_the_digit(4)"
      ],
      "metadata": {
        "id": "D68PU1huvLrI",
        "colab": {
          "base_uri": "https://localhost:8080/",
          "height": 118
        },
        "outputId": "f181f196-75e9-4e7c-bd25-31a34c4063aa"
      },
      "execution_count": null,
      "outputs": [
        {
          "output_type": "display_data",
          "data": {
            "text/plain": [
              "<Figure size 432x288 with 5 Axes>"
            ],
            "image/png": "[encoded data removed]"
          },
          "metadata": {
            "needs_background": "light"
          }
        }
      ]
    },
    {
      "cell_type": "code",
      "source": [
        "# digit: 5\n",
        "show_samples_of_the_digit(5)"
      ],
      "metadata": {
        "id": "gaXbBxokvPyi",
        "colab": {
          "base_uri": "https://localhost:8080/",
          "height": 118
        },
        "outputId": "c6182359-5790-4711-8ca9-baaf1b4b6450"
      },
      "execution_count": null,
      "outputs": [
        {
          "output_type": "display_data",
          "data": {
            "text/plain": [
              "<Figure size 432x288 with 5 Axes>"
            ],
            "image/png": "[encoded data removed]"
          },
          "metadata": {
            "needs_background": "light"
          }
        }
      ]
    },
    {
      "cell_type": "code",
      "source": [
        "# digit: 6\n",
        "show_samples_of_the_digit(6)"
      ],
      "metadata": {
        "id": "DHxfB7pevTlE",
        "colab": {
          "base_uri": "https://localhost:8080/",
          "height": 118
        },
        "outputId": "ef892d2f-2198-459b-d010-f09ed320c93d"
      },
      "execution_count": null,
      "outputs": [
        {
          "output_type": "display_data",
          "data": {
            "text/plain": [
              "<Figure size 432x288 with 5 Axes>"
            ],
            "image/png": "[encoded data removed]"
          },
          "metadata": {
            "needs_background": "light"
          }
        }
      ]
    },
    {
      "cell_type": "code",
      "source": [
        "# digit: 7\n",
        "show_samples_of_the_digit(7)"
      ],
      "metadata": {
        "id": "h-bf8OeyvXpK",
        "colab": {
          "base_uri": "https://localhost:8080/",
          "height": 118
        },
        "outputId": "02fef109-f7b5-44bd-8add-dc648b8b7374"
      },
      "execution_count": null,
      "outputs": [
        {
          "output_type": "display_data",
          "data": {
            "text/plain": [
              "<Figure size 432x288 with 5 Axes>"
            ],
            "image/png": "[encoded data removed]"
          },
          "metadata": {
            "needs_background": "light"
          }
        }
      ]
    },
    {
      "cell_type": "code",
      "source": [
        "# digit: 8\n",
        "show_samples_of_the_digit(8)"
      ],
      "metadata": {
        "id": "eRd8iBwqvgOJ",
        "colab": {
          "base_uri": "https://localhost:8080/",
          "height": 118
        },
        "outputId": "c228c6c5-079e-4545-bcef-22bc6126a4cb"
      },
      "execution_count": null,
      "outputs": [
        {
          "output_type": "display_data",
          "data": {
            "text/plain": [
              "<Figure size 432x288 with 5 Axes>"
            ],
            "image/png": "[encoded data removed]"
          },
          "metadata": {
            "needs_background": "light"
          }
        }
      ]
    },
    {
      "cell_type": "code",
      "source": [
        "# digit: 9\n",
        "show_samples_of_the_digit(9)"
      ],
      "metadata": {
        "id": "pjxnpH86vjRT",
        "colab": {
          "base_uri": "https://localhost:8080/",
          "height": 118
        },
        "outputId": "b4341f45-ce6d-46e0-842b-5f5170f89c86"
      },
      "execution_count": null,
      "outputs": [
        {
          "output_type": "display_data",
          "data": {
            "text/plain": [
              "<Figure size 432x288 with 5 Axes>"
            ],
            "image/png": "[encoded data removed]"
          },
          "metadata": {
            "needs_background": "light"
          }
        }
      ]
    },
    {
      "cell_type": "code",
      "execution_count": null,
      "metadata": {
        "id": "lU5iwXGBLf5J",
        "colab": {
          "base_uri": "https://localhost:8080/",
          "height": 275,
          "referenced_widgets": [
            "e4368867f25543589e252e178180887b",
            "28474d3e92734aeeaf8836877a9d1bec",
            "3f299a58c7804c5bad865e15f5307abc",
            "278eefd5b2e04392ae712b794701704b",
            "51bceeab89874736985ee845b2169751"
          ]
        },
        "outputId": "7b5c16fb-7cd0-49ed-8307-3bee920d6722"
      },
      "outputs": [
        {
          "output_type": "display_data",
          "data": {
            "text/plain": [
              "Button(description='Read', style=ButtonStyle(font_weight='bold'))"
            ],
            "application/vnd.jupyter.widget-view+json": {
              "version_major": 2,
              "version_minor": 0,
              "model_id": "e4368867f25543589e252e178180887b"
            }
          },
          "metadata": {}
        },
        {
          "output_type": "display_data",
          "data": {
            "text/plain": [
              "Output()"
            ],
            "application/vnd.jupyter.widget-view+json": {
              "version_major": 2,
              "version_minor": 0,
              "model_id": "278eefd5b2e04392ae712b794701704b"
            }
          },
          "metadata": {}
        },
        {
          "output_type": "display_data",
          "data": {
            "text/plain": [
              "<IPython.core.display.HTML object>"
            ],
            "text/html": [
              "\n",
              "<style>\n",
              "  .colors-buttons div {\n",
              "      width: 30px;\n",
              "      height: 30px;\n",
              "      margin: 2px;}\n",
              "  div {\n",
              "      display: flex;\n",
              "  }\n",
              "  canvas{border:1px solid black !important;}\n",
              "</style>\n",
              "<canvas id=\"myCanvas\" width=\"256\" height=\"256\"></canvas>\n",
              "<div class=\"colors-buttons\">\n",
              "  <div class=\"color\" style=\"background-color: #000000;\" id-color=\"#000000\"></div>\n",
              "  <div class=\"color\" style=\"background-color: #FFFFFF;\" id-color=\"#FFFFFF\"></div>    \n",
              "  <div class=\"color\" style=\"background-color: #FFFF00;\" id-color=\"#FFFF00\"></div>\n",
              "  <div class=\"color\" style=\"background-color: #FF00FF;\" id-color=\"#FF00FF\"></div>\n",
              "  <div class=\"color\" style=\"background-color: #00FFFF;\" id-color=\"#00FFFF\"></div>\n",
              "  <div class=\"color\" style=\"background-color: #FF0000;\" id-color=\"#FF0000\"></div>\n",
              "  <div class=\"color\" style=\"background-color: #0000FF;\" id-color=\"#0000FF\"></div>\n",
              "  <div class=\"color\" style=\"background-color: #00FF00;\" id-color=\"#00FF00\"></div>\n",
              "</div>\n",
              "<script>\n",
              "  var canvas = document.querySelector('canvas')\n",
              "  var ctx = canvas.getContext('2d')\n",
              "  ctx.fillStyle = 'black';\n",
              "  ctx.fillRect( 0, 0, canvas.width, canvas.height)\n",
              "  var Brush_Size = 20\n",
              "  var button = document.querySelector('button')\n",
              "  var mouse = {x: 0, y: 0}\n",
              "  canvas.addEventListener('mousemove', function(e) {\n",
              "    mouse.x = e.pageX - this.offsetLeft\n",
              "    mouse.y = e.pageY - this.offsetTop\n",
              "  })\n",
              "  canvas.onmousedown = ()=>{\n",
              "    ctx.beginPath()\n",
              "    ctx.moveTo(mouse.x, mouse.y)\n",
              "    \n",
              "    canvas.addEventListener('mousemove', onPaint)\n",
              "  }\n",
              "  canvas.onmouseup = ()=>{\n",
              "    canvas.removeEventListener('mousemove', onPaint)\n",
              "  }\n",
              "  var onPaint = ()=>{\n",
              "    ctx.fillRect(mouse.x-( Brush_Size/2), mouse.y-(Brush_Size/2), Brush_Size, Brush_Size)\n",
              "    ctx.stroke()\n",
              "  }\n",
              "  const colors = document.getElementsByClassName('color');\n",
              "  Array.from(colors).forEach(color => {\n",
              "      color.addEventListener('click', (event) => {\n",
              "          const colorSelected = event.target.getAttribute('id-color');\n",
              "          ctx.fillStyle = colorSelected;\n",
              "      });\n",
              "  });\n",
              "    // FINISH BUTTON\n",
              "  var data = new Promise(resolve=>{\n",
              "    button.onclick = ()=>{\n",
              "      resolve(canvas.toDataURL('image/jpg'))\n",
              "    }\n",
              "  })\n",
              "</script>\n"
            ]
          },
          "metadata": {}
        },
        {
          "output_type": "display_data",
          "data": {
            "text/plain": [
              "Button(description='Prediction: 6', style=ButtonStyle(button_color='Black', font_weight='bold'))"
            ],
            "application/vnd.jupyter.widget-view+json": {
              "version_major": 2,
              "version_minor": 0,
              "model_id": "e4368867f25543589e252e178180887b"
            }
          },
          "metadata": {}
        }
      ],
      "source": [
        "#UI code was modified from this source: https://gist.github.com/rickkk856/6a2800cc84dd8fd456074e5a467edc47\n",
        "\n",
        "#@title <font color='red'>Hindi Digit Drawing Input (Modified from a Gist)</font> {vertical-output: true, run: \"auto\"}\n",
        "\n",
        "import ipywidgets as widgets\n",
        "from ipywidgets import Layout, Button, Box\n",
        "from IPython.display import display, HTML, Image\n",
        "from google.colab.output import eval_js\n",
        "from base64 import b64decode\n",
        "\n",
        "Square_Size = 256\n",
        "Brush_Size = 20 #@param {type:\"slider\", min:0, max:100, step:5}\n",
        "Expected_Digit = \"1\" #@param [\"0\", \"1\", \"2\",\"3\",\"4\",\"5\",\"6\",\"7\",\"8\",\"9\"] {allow-input: true} \n",
        "filename = \"user_image\"#@param [] {allow-input: true}\n",
        "filename = filename + \".png\"\n",
        "\n",
        "js_code = '''\n",
        "<style>\n",
        "  .colors-buttons div {\n",
        "      width: 30px;\n",
        "      height: 30px;\n",
        "      margin: 2px;}\n",
        "  div {\n",
        "      display: flex;\n",
        "  }\n",
        "  canvas{border:1px solid black !important;}\n",
        "</style>\n",
        "<canvas id=\"myCanvas\" width=\"%d\" height=\"%d\"></canvas>\n",
        "<div class=\"colors-buttons\">\n",
        "  <div class=\"color\" style=\"background-color: #000000;\" id-color=\"#000000\"></div>\n",
        "  <div class=\"color\" style=\"background-color: #FFFFFF;\" id-color=\"#FFFFFF\"></div>    \n",
        "  <div class=\"color\" style=\"background-color: #FFFF00;\" id-color=\"#FFFF00\"></div>\n",
        "  <div class=\"color\" style=\"background-color: #FF00FF;\" id-color=\"#FF00FF\"></div>\n",
        "  <div class=\"color\" style=\"background-color: #00FFFF;\" id-color=\"#00FFFF\"></div>\n",
        "  <div class=\"color\" style=\"background-color: #FF0000;\" id-color=\"#FF0000\"></div>\n",
        "  <div class=\"color\" style=\"background-color: #0000FF;\" id-color=\"#0000FF\"></div>\n",
        "  <div class=\"color\" style=\"background-color: #00FF00;\" id-color=\"#00FF00\"></div>\n",
        "</div>\n",
        "<script>\n",
        "  var canvas = document.querySelector('canvas')\n",
        "  var ctx = canvas.getContext('2d')\n",
        "  ctx.fillStyle = 'black';\n",
        "  ctx.fillRect( 0, 0, canvas.width, canvas.height)\n",
        "  var Brush_Size = %d\n",
        "  var button = document.querySelector('button')\n",
        "  var mouse = {x: 0, y: 0}\n",
        "  canvas.addEventListener('mousemove', function(e) {\n",
        "    mouse.x = e.pageX - this.offsetLeft\n",
        "    mouse.y = e.pageY - this.offsetTop\n",
        "  })\n",
        "  canvas.onmousedown = ()=>{\n",
        "    ctx.beginPath()\n",
        "    ctx.moveTo(mouse.x, mouse.y)\n",
        "    \n",
        "    canvas.addEventListener('mousemove', onPaint)\n",
        "  }\n",
        "  canvas.onmouseup = ()=>{\n",
        "    canvas.removeEventListener('mousemove', onPaint)\n",
        "  }\n",
        "  var onPaint = ()=>{\n",
        "    ctx.fillRect(mouse.x-( Brush_Size/2), mouse.y-(Brush_Size/2), Brush_Size, Brush_Size)\n",
        "    ctx.stroke()\n",
        "  }\n",
        "  const colors = document.getElementsByClassName('color');\n",
        "  Array.from(colors).forEach(color => {\n",
        "      color.addEventListener('click', (event) => {\n",
        "          const colorSelected = event.target.getAttribute('id-color');\n",
        "          ctx.fillStyle = colorSelected;\n",
        "      });\n",
        "  });\n",
        "    // FINISH BUTTON\n",
        "  var data = new Promise(resolve=>{\n",
        "    button.onclick = ()=>{\n",
        "      resolve(canvas.toDataURL('image/jpg'))\n",
        "    }\n",
        "  })\n",
        "</script>\n",
        "'''\n",
        "\n",
        "\n",
        "## Function to Appear Image Canvas\n",
        "def draw(filename=filename,  w=Square_Size, h=Square_Size, Brush_Size=Brush_Size):\n",
        "  display(HTML(js_code % (w, h, Brush_Size)))\n",
        "  data = eval_js(\"data\")\n",
        "  binary = b64decode(data.split(',')[1])\n",
        "  if AttributeError:\n",
        "    pass\n",
        "  with open(filename, 'wb') as f:\n",
        "    f.write(binary)\n",
        "  return len(binary)\n",
        "  if button2.on_click(on_button_clicked2):\n",
        "    pass\n",
        "  \n",
        "\n",
        "## Action for Reset Button\n",
        "def on_button_clicked(b):\n",
        "  with output:\n",
        "    #display(HTML(canvas_html % ( w=$Square_Size, h=$Square_Size, Brush_Size=$Brush_Size)))\n",
        "    data = eval_js(\"data\")\n",
        "    binary = b64decode(data.split(',')[1])\n",
        "    with open(filename, 'wb') as f:\n",
        "      f.write(binary)\n",
        "  return len(binary)\n",
        "  \n",
        "\n",
        "## Show Save Button & Save outputs\n",
        "output = widgets.Output()\n",
        "button = widgets.Button(description=\"Read\",style=dict(font_weight='bold'))\n",
        "button.on_click(on_button_clicked)\n",
        "display(button, output)\n",
        "\n",
        "## Show Canvas for the First Time\n",
        "draw(filename=filename,  w=Square_Size, h=Square_Size, Brush_Size=Brush_Size)\n",
        "predicted_digit,drawnpic=read_image(filename)\n",
        "\n",
        "if predicted_digit == int(Expected_Digit):\n",
        "  button.style.button_color='DarkBlue'\n",
        "else:\n",
        "  button.style.button_color='Black'\n",
        "button.description=(f'Prediction: {predicted_digit}')\n",
        "display(button)"
      ]
    },
    {
      "cell_type": "code",
      "source": [
        "plt.imshow(drawnpic.reshape(32,32), cmap='gray', interpolation='none')"
      ],
      "metadata": {
        "id": "dKCorYBCkW5E",
        "colab": {
          "base_uri": "https://localhost:8080/",
          "height": 283
        },
        "outputId": "e7e47bab-2e45-48fb-aecd-0b4bd393d6d2"
      },
      "execution_count": null,
      "outputs": [
        {
          "output_type": "execute_result",
          "data": {
            "text/plain": [
              "<matplotlib.image.AxesImage at 0x7f95be2c1350>"
            ]
          },
          "metadata": {},
          "execution_count": 27
        },
        {
          "output_type": "display_data",
          "data": {
            "text/plain": [
              "<Figure size 432x288 with 1 Axes>"
            ],
            "image/png": "[encoded data removed]"
          },
          "metadata": {
            "needs_background": "light"
          }
        }
      ]
    }
  ]
}